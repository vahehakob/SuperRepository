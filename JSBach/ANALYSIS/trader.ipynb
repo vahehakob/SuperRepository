{
 "metadata": {
  "name": ""
 },
 "nbformat": 3,
 "nbformat_minor": 0,
 "worksheets": [
  {
   "cells": [
    {
     "cell_type": "heading",
     "level": 5,
     "metadata": {},
     "source": [
      "Load libs:"
     ]
    },
    {
     "cell_type": "code",
     "collapsed": false,
     "input": [
      "import sys, math, scipy, json, itertools, warnings\n",
      "import pandas as pd\n",
      "import numpy as np\n",
      "import pylab as pl\n",
      "from sklearn import linear_model, datasets\n",
      "from sklearn.decomposition import PCA\n",
      "from sklearn.preprocessing import scale\n",
      "from IPython.display import display, Math, Latex\n",
      "from matplotlib.backends.backend_pdf import PdfPages\n",
      "\n",
      "warnings.simplefilter(action = \"ignore\", category = FutureWarning)\n",
      "warnings.simplefilter(action = \"ignore\", category = DeprecationWarning)\n",
      "%matplotlib inline"
     ],
     "language": "python",
     "metadata": {},
     "outputs": [],
     "prompt_number": 1
    },
    {
     "cell_type": "heading",
     "level": 5,
     "metadata": {},
     "source": [
      "Load Data:"
     ]
    },
    {
     "cell_type": "code",
     "collapsed": false,
     "input": [
      "dataFile_ = 'Trading\\\\trades.json'\n",
      "dframe =  pd.DataFrame( json.load(open(dataFile_)) )\n",
      "\n",
      "''' extract Asks&Bids '''\n",
      "dframeAsks = dframe[dframe['Type']==0]\n",
      "dframeBids = dframe[dframe['Type']==1]\n",
      "\n",
      "''' load Depth::Asks & Bids separately '''\n",
      "asksFile_ = 'Trading\\\\btcusdAsks.json'\n",
      "dfasks = pd.DataFrame( json.load(open(asksFile_)) )\n",
      "bidsFile_ = 'Trading\\\\btcusdBids.json'\n",
      "dfbids = pd.DataFrame( json.load(open(bidsFile_)) )\n",
      "\n",
      "''' Data Summary '''\n",
      "dframe.describe()"
     ],
     "language": "python",
     "metadata": {},
     "outputs": [
      {
       "html": [
        "<div style=\"max-height:1000px;max-width:1500px;overflow:auto;\">\n",
        "<table border=\"1\" class=\"dataframe\">\n",
        "  <thead>\n",
        "    <tr style=\"text-align: right;\">\n",
        "      <th></th>\n",
        "      <th>Amount</th>\n",
        "      <th>Price</th>\n",
        "      <th>Tid</th>\n",
        "      <th>Type</th>\n",
        "    </tr>\n",
        "  </thead>\n",
        "  <tbody>\n",
        "    <tr>\n",
        "      <th>count</th>\n",
        "      <td> 2.000000e+03</td>\n",
        "      <td> 2000.000000</td>\n",
        "      <td>     2000.000000</td>\n",
        "      <td> 2000.000000</td>\n",
        "    </tr>\n",
        "    <tr>\n",
        "      <th>mean</th>\n",
        "      <td> 1.172246e-01</td>\n",
        "      <td>  458.126833</td>\n",
        "      <td> 40044692.062000</td>\n",
        "      <td>    0.656500</td>\n",
        "    </tr>\n",
        "    <tr>\n",
        "      <th>std</th>\n",
        "      <td> 3.197781e-01</td>\n",
        "      <td>    4.323213</td>\n",
        "      <td>    43442.240417</td>\n",
        "      <td>    0.474995</td>\n",
        "    </tr>\n",
        "    <tr>\n",
        "      <th>min</th>\n",
        "      <td> 1.000000e-08</td>\n",
        "      <td>  452.442000</td>\n",
        "      <td> 39922594.000000</td>\n",
        "      <td>    0.000000</td>\n",
        "    </tr>\n",
        "    <tr>\n",
        "      <th>25%</th>\n",
        "      <td> 1.681400e-02</td>\n",
        "      <td>  455.000000</td>\n",
        "      <td> 40023197.250000</td>\n",
        "      <td>    0.000000</td>\n",
        "    </tr>\n",
        "    <tr>\n",
        "      <th>50%</th>\n",
        "      <td> 3.877070e-02</td>\n",
        "      <td>  456.526000</td>\n",
        "      <td> 40063410.500000</td>\n",
        "      <td>    1.000000</td>\n",
        "    </tr>\n",
        "    <tr>\n",
        "      <th>75%</th>\n",
        "      <td> 9.537685e-02</td>\n",
        "      <td>  461.002000</td>\n",
        "      <td> 40065430.750000</td>\n",
        "      <td>    1.000000</td>\n",
        "    </tr>\n",
        "    <tr>\n",
        "      <th>max</th>\n",
        "      <td> 6.323270e+00</td>\n",
        "      <td>  468.000000</td>\n",
        "      <td> 40121542.000000</td>\n",
        "      <td>    1.000000</td>\n",
        "    </tr>\n",
        "  </tbody>\n",
        "</table>\n",
        "</div>"
       ],
       "metadata": {},
       "output_type": "pyout",
       "prompt_number": 5,
       "text": [
        "             Amount        Price              Tid         Type\n",
        "count  2.000000e+03  2000.000000      2000.000000  2000.000000\n",
        "mean   1.172246e-01   458.126833  40044692.062000     0.656500\n",
        "std    3.197781e-01     4.323213     43442.240417     0.474995\n",
        "min    1.000000e-08   452.442000  39922594.000000     0.000000\n",
        "25%    1.681400e-02   455.000000  40023197.250000     0.000000\n",
        "50%    3.877070e-02   456.526000  40063410.500000     1.000000\n",
        "75%    9.537685e-02   461.002000  40065430.750000     1.000000\n",
        "max    6.323270e+00   468.000000  40121542.000000     1.000000"
       ]
      }
     ],
     "prompt_number": 5
    },
    {
     "cell_type": "code",
     "collapsed": false,
     "input": [
      "dframe.head() "
     ],
     "language": "python",
     "metadata": {},
     "outputs": [
      {
       "html": [
        "<div style=\"max-height:1000px;max-width:1500px;overflow:auto;\">\n",
        "<table border=\"1\" class=\"dataframe\">\n",
        "  <thead>\n",
        "    <tr style=\"text-align: right;\">\n",
        "      <th></th>\n",
        "      <th>Amount</th>\n",
        "      <th>Price</th>\n",
        "      <th>Tid</th>\n",
        "      <th>Timestamp</th>\n",
        "      <th>Type</th>\n",
        "    </tr>\n",
        "  </thead>\n",
        "  <tbody>\n",
        "    <tr>\n",
        "      <th>0</th>\n",
        "      <td> 0.018406</td>\n",
        "      <td> 458.0</td>\n",
        "      <td> 40121542</td>\n",
        "      <td> 2014-07-09T08:42:13Z</td>\n",
        "      <td> 0</td>\n",
        "    </tr>\n",
        "    <tr>\n",
        "      <th>1</th>\n",
        "      <td> 0.010599</td>\n",
        "      <td> 458.0</td>\n",
        "      <td> 40121541</td>\n",
        "      <td> 2014-07-09T08:42:12Z</td>\n",
        "      <td> 1</td>\n",
        "    </tr>\n",
        "    <tr>\n",
        "      <th>2</th>\n",
        "      <td> 0.041238</td>\n",
        "      <td> 458.9</td>\n",
        "      <td> 40121436</td>\n",
        "      <td> 2014-07-09T08:32:07Z</td>\n",
        "      <td> 0</td>\n",
        "    </tr>\n",
        "    <tr>\n",
        "      <th>3</th>\n",
        "      <td> 0.028762</td>\n",
        "      <td> 458.9</td>\n",
        "      <td> 40121435</td>\n",
        "      <td> 2014-07-09T08:32:06Z</td>\n",
        "      <td> 0</td>\n",
        "    </tr>\n",
        "    <tr>\n",
        "      <th>4</th>\n",
        "      <td> 0.040000</td>\n",
        "      <td> 458.9</td>\n",
        "      <td> 40120872</td>\n",
        "      <td> 2014-07-09T08:13:26Z</td>\n",
        "      <td> 1</td>\n",
        "    </tr>\n",
        "  </tbody>\n",
        "</table>\n",
        "</div>"
       ],
       "metadata": {},
       "output_type": "pyout",
       "prompt_number": 6,
       "text": [
        "     Amount  Price       Tid             Timestamp  Type\n",
        "0  0.018406  458.0  40121542  2014-07-09T08:42:13Z     0\n",
        "1  0.010599  458.0  40121541  2014-07-09T08:42:12Z     1\n",
        "2  0.041238  458.9  40121436  2014-07-09T08:32:07Z     0\n",
        "3  0.028762  458.9  40121435  2014-07-09T08:32:06Z     0\n",
        "4  0.040000  458.9  40120872  2014-07-09T08:13:26Z     1"
       ]
      }
     ],
     "prompt_number": 6
    },
    {
     "cell_type": "code",
     "collapsed": false,
     "input": [
      "dframe.tail()"
     ],
     "language": "python",
     "metadata": {},
     "outputs": [
      {
       "html": [
        "<div style=\"max-height:1000px;max-width:1500px;overflow:auto;\">\n",
        "<table border=\"1\" class=\"dataframe\">\n",
        "  <thead>\n",
        "    <tr style=\"text-align: right;\">\n",
        "      <th></th>\n",
        "      <th>Amount</th>\n",
        "      <th>Price</th>\n",
        "      <th>Tid</th>\n",
        "      <th>Timestamp</th>\n",
        "      <th>Type</th>\n",
        "    </tr>\n",
        "  </thead>\n",
        "  <tbody>\n",
        "    <tr>\n",
        "      <th>1995</th>\n",
        "      <td> 0.039515</td>\n",
        "      <td> 462.227</td>\n",
        "      <td> 39923327</td>\n",
        "      <td> 2014-07-04T21:56:05Z</td>\n",
        "      <td> 0</td>\n",
        "    </tr>\n",
        "    <tr>\n",
        "      <th>1996</th>\n",
        "      <td> 0.013546</td>\n",
        "      <td> 462.227</td>\n",
        "      <td> 39923325</td>\n",
        "      <td> 2014-07-04T21:56:04Z</td>\n",
        "      <td> 0</td>\n",
        "    </tr>\n",
        "    <tr>\n",
        "      <th>1997</th>\n",
        "      <td> 0.012222</td>\n",
        "      <td> 462.227</td>\n",
        "      <td> 39923299</td>\n",
        "      <td> 2014-07-04T21:55:22Z</td>\n",
        "      <td> 0</td>\n",
        "    </tr>\n",
        "    <tr>\n",
        "      <th>1998</th>\n",
        "      <td> 0.026904</td>\n",
        "      <td> 462.700</td>\n",
        "      <td> 39922674</td>\n",
        "      <td> 2014-07-04T21:45:36Z</td>\n",
        "      <td> 1</td>\n",
        "    </tr>\n",
        "    <tr>\n",
        "      <th>1999</th>\n",
        "      <td> 0.000318</td>\n",
        "      <td> 462.700</td>\n",
        "      <td> 39922594</td>\n",
        "      <td> 2014-07-04T21:45:04Z</td>\n",
        "      <td> 0</td>\n",
        "    </tr>\n",
        "  </tbody>\n",
        "</table>\n",
        "</div>"
       ],
       "metadata": {},
       "output_type": "pyout",
       "prompt_number": 7,
       "text": [
        "        Amount    Price       Tid             Timestamp  Type\n",
        "1995  0.039515  462.227  39923327  2014-07-04T21:56:05Z     0\n",
        "1996  0.013546  462.227  39923325  2014-07-04T21:56:04Z     0\n",
        "1997  0.012222  462.227  39923299  2014-07-04T21:55:22Z     0\n",
        "1998  0.026904  462.700  39922674  2014-07-04T21:45:36Z     1\n",
        "1999  0.000318  462.700  39922594  2014-07-04T21:45:04Z     0"
       ]
      }
     ],
     "prompt_number": 7
    },
    {
     "cell_type": "heading",
     "level": 5,
     "metadata": {},
     "source": [
      "Summary:\n",
      "    Data contains ~4 days\n",
      "    data size 184 kB\n",
      "    ==> 25000 kB a year (1.5*365/4*184)"
     ]
    },
    {
     "cell_type": "code",
     "collapsed": false,
     "input": [
      "fig, axes = pl.subplots(figsize=(14,7))\n",
      "pl.subplot(1,2,1)\n",
      "title = ' Bids & Asks '\n",
      "legend = ['Asks','Bids']\n",
      "pl.plot(dframeAsks['Price'],'g-')\n",
      "pl.plot(dframeBids['Price'],'b-')\n",
      "\n",
      "pl.title(title)\n",
      "pl.ylabel('Price'), pl.xlabel('TradeNb')\n",
      "pl.legend(legend, loc='upper left')\n",
      "pl.subplot(1,2,2)\n",
      "title = ' Bids & Asks '\n",
      "legend = ['Asks','Bids']\n",
      "pl.plot(dframeAsks['Amount'],'m-')\n",
      "pl.plot(dframeBids['Amount'],'r-')\n",
      "pl.title(title)\n",
      "pl.ylabel('Amount'), pl.xlabel('TradeNb')\n",
      "pl.legend(legend, loc='upper left');"
     ],
     "language": "python",
     "metadata": {},
     "outputs": [
      {
       "metadata": {},
       "output_type": "display_data",
       "png": "[encoded data removed]",
       "text": [
        "<matplotlib.figure.Figure at 0xaaf4290>"
       ]
      }
     ],
     "prompt_number": 3
    },
    {
     "cell_type": "code",
     "collapsed": false,
     "input": [
      "#dfBids.head()\n",
      "#dfBids.tail()\n",
      "x = pd.datetime(2014, 7, 8, 11, 1)\n",
      "y = pd.datetime(2014, 7, 8, 6, 30)\n",
      "z = pd.datetime(2014, 7, 8, 10, 0)\n",
      "print x, y\n",
      "#print xx, yy\n",
      "#print dfBids.ix[z]"
     ],
     "language": "python",
     "metadata": {},
     "outputs": [
      {
       "ename": "NameError",
       "evalue": "name 'dfBids' is not defined",
       "output_type": "pyerr",
       "traceback": [
        "\u001b[1;31m---------------------------------------------------------------------------\u001b[0m\n\u001b[1;31mNameError\u001b[0m                                 Traceback (most recent call last)",
        "\u001b[1;32m<ipython-input-6-e496e4f999f0>\u001b[0m in \u001b[0;36m<module>\u001b[1;34m()\u001b[0m\n\u001b[0;32m      6\u001b[0m \u001b[1;32mprint\u001b[0m \u001b[0mx\u001b[0m\u001b[1;33m,\u001b[0m \u001b[0my\u001b[0m\u001b[1;33m\u001b[0m\u001b[0m\n\u001b[0;32m      7\u001b[0m \u001b[1;31m#print xx, yy\u001b[0m\u001b[1;33m\u001b[0m\u001b[1;33m\u001b[0m\u001b[0m\n\u001b[1;32m----> 8\u001b[1;33m \u001b[1;32mprint\u001b[0m \u001b[0mdfBids\u001b[0m\u001b[1;33m.\u001b[0m\u001b[0mix\u001b[0m\u001b[1;33m[\u001b[0m\u001b[0mz\u001b[0m\u001b[1;33m]\u001b[0m\u001b[1;33m\u001b[0m\u001b[0m\n\u001b[0m",
        "\u001b[1;31mNameError\u001b[0m: name 'dfBids' is not defined"
       ]
      },
      {
       "output_type": "stream",
       "stream": "stdout",
       "text": [
        "2014-07-08 11:01:00 2014-07-08 06:30:00\n"
       ]
      }
     ],
     "prompt_number": 6
    },
    {
     "cell_type": "code",
     "collapsed": false,
     "input": [
      "dfBids.head()"
     ],
     "language": "python",
     "metadata": {},
     "outputs": [
      {
       "ename": "NameError",
       "evalue": "name 'dfBids' is not defined",
       "output_type": "pyerr",
       "traceback": [
        "\u001b[1;31m---------------------------------------------------------------------------\u001b[0m\n\u001b[1;31mNameError\u001b[0m                                 Traceback (most recent call last)",
        "\u001b[1;32m<ipython-input-7-97c90e048e54>\u001b[0m in \u001b[0;36m<module>\u001b[1;34m()\u001b[0m\n\u001b[1;32m----> 1\u001b[1;33m \u001b[0mdfBids\u001b[0m\u001b[1;33m.\u001b[0m\u001b[0mhead\u001b[0m\u001b[1;33m(\u001b[0m\u001b[1;33m)\u001b[0m\u001b[1;33m\u001b[0m\u001b[0m\n\u001b[0m",
        "\u001b[1;31mNameError\u001b[0m: name 'dfBids' is not defined"
       ]
      }
     ],
     "prompt_number": 7
    },
    {
     "cell_type": "code",
     "collapsed": false,
     "input": [
      "df['20130419':'20130422']"
     ],
     "language": "python",
     "metadata": {},
     "outputs": []
    },
    {
     "cell_type": "code",
     "collapsed": false,
     "input": [
      "print dfbids.head()\n",
      "print dfbids.tail()"
     ],
     "language": "python",
     "metadata": {},
     "outputs": [
      {
       "output_type": "stream",
       "stream": "stdout",
       "text": [
        "     Amount    Price\n",
        "0  0.716445  452.603\n",
        "1  0.669000  452.443\n",
        "2  1.000000  452.442\n",
        "3  0.203254  452.441\n",
        "4  1.010245  452.000\n",
        "       Amount    Price\n",
        "145  0.340000  322.000\n",
        "146  0.300000  321.002\n",
        "147  0.019019  321.000\n",
        "148  5.540900  320.000\n",
        "149  0.035118  319.000\n"
       ]
      }
     ],
     "prompt_number": 42
    },
    {
     "cell_type": "code",
     "collapsed": false,
     "input": [
      "dframe.head()"
     ],
     "language": "python",
     "metadata": {},
     "outputs": [
      {
       "html": [
        "<div style=\"max-height:1000px;max-width:1500px;overflow:auto;\">\n",
        "<table border=\"1\" class=\"dataframe\">\n",
        "  <thead>\n",
        "    <tr style=\"text-align: right;\">\n",
        "      <th></th>\n",
        "      <th>Amount</th>\n",
        "      <th>Date</th>\n",
        "      <th>Item</th>\n",
        "      <th>Price</th>\n",
        "      <th>PriceCurrency</th>\n",
        "      <th>Tid</th>\n",
        "      <th>Type</th>\n",
        "    </tr>\n",
        "  </thead>\n",
        "  <tbody>\n",
        "    <tr>\n",
        "      <th>0</th>\n",
        "      <td> 0.165436</td>\n",
        "      <td> 2014-07-08T11:01:08Z</td>\n",
        "      <td> 0</td>\n",
        "      <td> 457.497</td>\n",
        "      <td> 1</td>\n",
        "      <td> 40098326</td>\n",
        "      <td> 0</td>\n",
        "    </tr>\n",
        "    <tr>\n",
        "      <th>1</th>\n",
        "      <td> 0.049866</td>\n",
        "      <td> 2014-07-08T11:01:07Z</td>\n",
        "      <td> 0</td>\n",
        "      <td> 457.497</td>\n",
        "      <td> 1</td>\n",
        "      <td> 40098322</td>\n",
        "      <td> 1</td>\n",
        "    </tr>\n",
        "    <tr>\n",
        "      <th>2</th>\n",
        "      <td> 0.016774</td>\n",
        "      <td> 2014-07-08T11:00:01Z</td>\n",
        "      <td> 0</td>\n",
        "      <td> 452.603</td>\n",
        "      <td> 1</td>\n",
        "      <td> 40098300</td>\n",
        "      <td> 0</td>\n",
        "    </tr>\n",
        "    <tr>\n",
        "      <th>3</th>\n",
        "      <td> 0.055912</td>\n",
        "      <td> 2014-07-08T11:00:00Z</td>\n",
        "      <td> 0</td>\n",
        "      <td> 452.603</td>\n",
        "      <td> 1</td>\n",
        "      <td> 40098299</td>\n",
        "      <td> 0</td>\n",
        "    </tr>\n",
        "    <tr>\n",
        "      <th>4</th>\n",
        "      <td> 0.232969</td>\n",
        "      <td> 2014-07-08T11:00:00Z</td>\n",
        "      <td> 0</td>\n",
        "      <td> 452.603</td>\n",
        "      <td> 1</td>\n",
        "      <td> 40098296</td>\n",
        "      <td> 0</td>\n",
        "    </tr>\n",
        "  </tbody>\n",
        "</table>\n",
        "</div>"
       ],
       "metadata": {},
       "output_type": "pyout",
       "prompt_number": 43,
       "text": [
        "     Amount                  Date  Item    Price  PriceCurrency       Tid  Type\n",
        "0  0.165436  2014-07-08T11:01:08Z     0  457.497              1  40098326     0\n",
        "1  0.049866  2014-07-08T11:01:07Z     0  457.497              1  40098322     1\n",
        "2  0.016774  2014-07-08T11:00:01Z     0  452.603              1  40098300     0\n",
        "3  0.055912  2014-07-08T11:00:00Z     0  452.603              1  40098299     0\n",
        "4  0.232969  2014-07-08T11:00:00Z     0  452.603              1  40098296     0"
       ]
      }
     ],
     "prompt_number": 43
    },
    {
     "cell_type": "code",
     "collapsed": false,
     "input": [
      "dFile_ = 'Trading\\\\trades3.json'\n",
      "df =  pd.DataFrame( json.load(open(dFile_)) )\n",
      "''' extract Asks&Bids '''\n",
      "dfAsks = df[df['Type']==0]\n",
      "dfBids = df[df['Type']==1]"
     ],
     "language": "python",
     "metadata": {},
     "outputs": [],
     "prompt_number": 16
    },
    {
     "cell_type": "code",
     "collapsed": false,
     "input": [
      "df.head()"
     ],
     "language": "python",
     "metadata": {},
     "outputs": [
      {
       "html": [
        "<div style=\"max-height:1000px;max-width:1500px;overflow:auto;\">\n",
        "<table border=\"1\" class=\"dataframe\">\n",
        "  <thead>\n",
        "    <tr style=\"text-align: right;\">\n",
        "      <th></th>\n",
        "      <th>Amount</th>\n",
        "      <th>Price</th>\n",
        "      <th>Tid</th>\n",
        "      <th>Timestamp</th>\n",
        "      <th>Type</th>\n",
        "    </tr>\n",
        "  </thead>\n",
        "  <tbody>\n",
        "    <tr>\n",
        "      <th>0</th>\n",
        "      <td> 0.018406</td>\n",
        "      <td> 458.0</td>\n",
        "      <td> 40121542</td>\n",
        "      <td> 2014-07-09T08:42:13Z</td>\n",
        "      <td> 0</td>\n",
        "    </tr>\n",
        "    <tr>\n",
        "      <th>1</th>\n",
        "      <td> 0.010599</td>\n",
        "      <td> 458.0</td>\n",
        "      <td> 40121541</td>\n",
        "      <td> 2014-07-09T08:42:12Z</td>\n",
        "      <td> 1</td>\n",
        "    </tr>\n",
        "    <tr>\n",
        "      <th>2</th>\n",
        "      <td> 0.041238</td>\n",
        "      <td> 458.9</td>\n",
        "      <td> 40121436</td>\n",
        "      <td> 2014-07-09T08:32:07Z</td>\n",
        "      <td> 0</td>\n",
        "    </tr>\n",
        "    <tr>\n",
        "      <th>3</th>\n",
        "      <td> 0.028762</td>\n",
        "      <td> 458.9</td>\n",
        "      <td> 40121435</td>\n",
        "      <td> 2014-07-09T08:32:06Z</td>\n",
        "      <td> 0</td>\n",
        "    </tr>\n",
        "    <tr>\n",
        "      <th>4</th>\n",
        "      <td> 0.040000</td>\n",
        "      <td> 458.9</td>\n",
        "      <td> 40120872</td>\n",
        "      <td> 2014-07-09T08:13:26Z</td>\n",
        "      <td> 1</td>\n",
        "    </tr>\n",
        "  </tbody>\n",
        "</table>\n",
        "</div>"
       ],
       "metadata": {},
       "output_type": "pyout",
       "prompt_number": 21,
       "text": [
        "     Amount  Price       Tid             Timestamp  Type\n",
        "0  0.018406  458.0  40121542  2014-07-09T08:42:13Z     0\n",
        "1  0.010599  458.0  40121541  2014-07-09T08:42:12Z     1\n",
        "2  0.041238  458.9  40121436  2014-07-09T08:32:07Z     0\n",
        "3  0.028762  458.9  40121435  2014-07-09T08:32:06Z     0\n",
        "4  0.040000  458.9  40120872  2014-07-09T08:13:26Z     1"
       ]
      }
     ],
     "prompt_number": 21
    },
    {
     "cell_type": "code",
     "collapsed": false,
     "input": [
      "fig, axes = pl.subplots(figsize=(14,7))\n",
      "pl.subplot(1,2,1)\n",
      "title = ' Bids & Asks '\n",
      "legend = ['Asks','Bids']\n",
      "pl.plot(dfAsks['Price'],'r-')\n",
      "pl.plot(dfBids['Price'],'b-')\n",
      "\n",
      "pl.title(title)\n",
      "pl.ylabel('Price'), pl.xlabel('TradeNb')\n",
      "pl.legend(legend, loc='upper left')\n",
      "pl.subplot(1,2,2)\n",
      "title = ' Bids & Asks '\n",
      "legend = ['Asks','Bids']\n",
      "pl.plot(dfAsks['Amount'],'m-')\n",
      "pl.plot(dfBids['Amount'],'g-')\n",
      "pl.title(title)\n",
      "pl.ylabel('Amount'), pl.xlabel('TradeNb')\n",
      "pl.legend(legend, loc='upper left')\n",
      "\n",
      "pp = PdfPages('foo.pdf')\n",
      "fig.savefig(pp, format='pdf') \n",
      "pp.close();"
     ],
     "language": "python",
     "metadata": {},
     "outputs": [
      {
       "metadata": {},
       "output_type": "display_data",
       "png": "[encoded data removed]",
       "text": [
        "<matplotlib.figure.Figure at 0x9e16bf0>"
       ]
      }
     ],
     "prompt_number": 24
    },
    {
     "cell_type": "code",
     "collapsed": false,
     "input": [
      "df[df['Tid']==40107964]"
     ],
     "language": "python",
     "metadata": {},
     "outputs": [
      {
       "html": [
        "<div style=\"max-height:1000px;max-width:1500px;overflow:auto;\">\n",
        "<table border=\"1\" class=\"dataframe\">\n",
        "  <thead>\n",
        "    <tr style=\"text-align: right;\">\n",
        "      <th></th>\n",
        "      <th>Amount</th>\n",
        "      <th>Price</th>\n",
        "      <th>Tid</th>\n",
        "      <th>Timestamp</th>\n",
        "      <th>Type</th>\n",
        "    </tr>\n",
        "  </thead>\n",
        "  <tbody>\n",
        "    <tr>\n",
        "      <th>38</th>\n",
        "      <td> 0.077634</td>\n",
        "      <td> 459.997</td>\n",
        "      <td> 40107964</td>\n",
        "      <td> 2014-07-08T20:17:11Z</td>\n",
        "      <td> 1</td>\n",
        "    </tr>\n",
        "  </tbody>\n",
        "</table>\n",
        "</div>"
       ],
       "metadata": {},
       "output_type": "pyout",
       "prompt_number": 20,
       "text": [
        "      Amount    Price       Tid             Timestamp  Type\n",
        "38  0.077634  459.997  40107964  2014-07-08T20:17:11Z     1"
       ]
      }
     ],
     "prompt_number": 20
    },
    {
     "cell_type": "code",
     "collapsed": false,
     "input": [],
     "language": "python",
     "metadata": {},
     "outputs": []
    }
   ],
   "metadata": {}
  }
 ]
}