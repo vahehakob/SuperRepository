{
 "metadata": {
  "name": ""
 },
 "nbformat": 3,
 "nbformat_minor": 0,
 "worksheets": [
  {
   "cells": [
    {
     "cell_type": "code",
     "collapsed": false,
     "input": [
      "import pandas as pd\n",
      "import time, datetime, json, csv , StringIO, gzip\n",
      "import urllib, urllib2\n",
      "import numpy as np\n",
      "import matplotlib\n",
      "import matplotlib.pyplot as plt"
     ],
     "language": "python",
     "metadata": {},
     "outputs": [],
     "prompt_number": 3
    },
    {
     "cell_type": "code",
     "collapsed": false,
     "input": [
      "''' \n",
      "    Function copying .gzip files from http://api.bitcoincharts.com/v1/csv/ \n",
      "    File copied into the directory ${Dir}/http:api.bitcoincharts.comv1csv.gz \n",
      "    EXAMPLE: PullOnlineRate('b7USD')\n",
      "'''\n",
      "def PullOnlineRate_gzip ( filename, Dir, Decompress = False, \\\n",
      "                    baseURL = 'http://api.bitcoincharts.com/v1/csv/', ending = '.csv.gz' ):\n",
      "    \n",
      "    url = baseURL + filename + ending \n",
      "    file_name = Dir+'/'+url.split('/')[-1]\n",
      "    f = open(file_name, 'wb')\n",
      "    u = urllib2.urlopen(url)\n",
      "    meta = u.info()\n",
      "    file_size = int(meta.getheaders(\"Content-Length\")[0])\n",
      "    print \"Downloading: %s Bytes: %s\" % (file_name, file_size)\n",
      "\n",
      "    file_size_dl = 0\n",
      "    block_sz = 8192\n",
      "    while True:\n",
      "        buffer = u.read(block_sz)\n",
      "        if not buffer:\n",
      "            break\n",
      "\n",
      "        file_size_dl += len(buffer)\n",
      "        f.write(buffer)\n",
      "        status = r\"%10d  [%3.2f%%]\" % (file_size_dl, file_size_dl * 100. / file_size)\n",
      "        status = status + chr(8)*(len(status)+1)\n",
      "        print status,\n",
      "\n",
      "    f.close()"
     ],
     "language": "python",
     "metadata": {},
     "outputs": [],
     "prompt_number": 4
    },
    {
     "cell_type": "code",
     "collapsed": false,
     "input": [
      "''' \n",
      "    Decompress into files into format .csv or json\n",
      "    EXAMPLE: DecompressInto('b7USD.csv.gz', 'History', 'csv')\n",
      "'''\n",
      "def Decompress( filename, Dir ):\n",
      "    \n",
      "    start = time.clock()\n",
      "    compressedFile = gzip.open( Dir+'/'+filename+'.csv.gz', 'rb' )\n",
      "    f_out = open( Dir+'/'+filename+'.csv', 'wb' )\n",
      "    f_out.writelines( compressedFile )\n",
      "    f_out.close()\n",
      "    elapsed = (time.clock() - start)\n",
      "    print 'time for decompression: ', elapsed\n",
      "\n",
      "\n",
      "def DecompressGZInto( filename, Dir, Format='csv' ):\n",
      "\n",
      "    zfile = gzip.open(Dir+'/'+filename+'.csv.gz')\n",
      "    file_name = filename[:(len(filename)-7)]\n",
      "    \n",
      "    ''' do DataFrame '''\n",
      "    mydf = myDframe( ['unixtime', 'price', 'amount'] )\n",
      "    for tm in zfile:\n",
      "        mydf.Append([tm[0], tm[1], tm[2]])\n",
      "    mydf.DoFrame()\n",
      "    \n",
      "    ''' print into files '''\n",
      "    if ( Format == 'csv' ):\n",
      "        mydf.PDFrame.to_csv(Dir+'/'+file_name+'.csv')\n",
      "    elif (Format == 'json'):\n",
      "        print Dir+'/'+filename+'.csv.gz'\n",
      "        print Dir+'/'+file_name+'.json'\n",
      "        mydf.PDFrame.to_json(Dir+'/'+file_name+'.json')\n",
      "    else:\n",
      "        print 'OutputFormat not recognised: csv OR json'\n",
      "        sys.exit()"
     ],
     "language": "python",
     "metadata": {},
     "outputs": [],
     "prompt_number": 7
    },
    {
     "cell_type": "code",
     "collapsed": false,
     "input": [
      "''' Usage example : too slow for btcUSD\n",
      "'''\n",
      "Curr = 'btceUSD'\n",
      "#PullOnlineRate_gzip(Curr,'History')\n",
      "t_ini = time.clock()\n",
      "#DecompressGZInto(Curr,'History','json')\n",
      "Decompress(Curr,'History')\n",
      "print time.clock() - t_ini"
     ],
     "language": "python",
     "metadata": {},
     "outputs": [
      {
       "output_type": "stream",
       "stream": "stdout",
       "text": [
        "time for decompression:  49.4110690422\n",
        "49.4114473988\n"
       ]
      }
     ],
     "prompt_number": 9
    },
    {
     "cell_type": "code",
     "collapsed": false,
     "input": [
      "class myDframe:\n",
      "    '''\n",
      "Generic class to init/load Panda Dataframe\n",
      "'''\n",
      "    def __init__(self, args):\n",
      "        self.__args = args\n",
      "        self.__Size = len(args)\n",
      "        self.__inArr = [ [] for tmp in range(self.__Size) ]\n",
      "\n",
      "    def Append(self, arr):\n",
      "        self.__Check(arr)\n",
      "        [ self.__inArr[idx].append(arr[idx]) for idx in range(self.__Size) ]\n",
      "\n",
      "    def DoFrame(self):\n",
      "        DoFrame = {}\n",
      "        [ DoFrame.update( {self.__args[idx] : self.__inArr[idx]} ) for idx in range(self.__Size) ]\n",
      "        self.PDFrame = pd.DataFrame( DoFrame )\n",
      "        del self.__inArr\n",
      "        del DoFrame\n",
      "\n",
      "    def __Check(self, lst):\n",
      "        if (len(lst) != self.__Size):\n",
      "            #print self.__Size, len(lst)\n",
      "            sys.exit( 'error: Load PDaDFrame Failed' )"
     ],
     "language": "python",
     "metadata": {},
     "outputs": [],
     "prompt_number": 5
    }
   ],
   "metadata": {}
  }
 ]
}